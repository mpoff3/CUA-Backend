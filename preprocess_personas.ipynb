{
 "cells": [
  {
   "cell_type": "code",
   "execution_count": 4,
   "metadata": {},
   "outputs": [],
   "source": [
    "import pandas as pd\n",
    "import random"
   ]
  },
  {
   "cell_type": "code",
   "execution_count": 8,
   "metadata": {},
   "outputs": [
    {
     "name": "stdout",
     "output_type": "stream",
     "text": [
      "                                           cua_input  \\\n",
      "0  Search for a white bed frame as if you were th...   \n",
      "1  Search for a white bed frame as if you were th...   \n",
      "2  Search for a green chair as if you were the pe...   \n",
      "3  Search for a pink table as if you were the per...   \n",
      "4  Search for a green chair as if you were the pe...   \n",
      "\n",
      "                 product_search  \n",
      "0  Search for a white bed frame  \n",
      "1  Search for a white bed frame  \n",
      "2      Search for a green chair  \n",
      "3       Search for a pink table  \n",
      "4      Search for a green chair  \n"
     ]
    }
   ],
   "source": [
    "df = pd.read_csv('personas.csv')\n",
    "\n",
    "### Filter to your chunk of personas\n",
    "df = df.iloc[0:100]\n",
    "\n",
    "personas = df['answer.journey_pattern'].tolist()\n",
    "potential_product_search = [\"Search for a pink table\",\n",
    "                            \"Search for a blue window curtain\",\n",
    "                            \"Search for a green sofa\",\n",
    "                            \"Search for an espresso tone wooden table\",\n",
    "                            \"Search for a white bed frame\",\n",
    "                            \"Search for a black nightstand\",\n",
    "                            \"Search for a gray dresser\",\n",
    "                            \"Search for a brown chair\",\n",
    "                            \"Search for a blue chair\",\n",
    "                            \"Search for a green chair\",\n",
    "                            ]\n",
    "\n",
    "# Create a list of product searches the same length as personas\n",
    "# Each element is randomly chosen from potential_product_search\n",
    "product_search = random.choices(potential_product_search, k=len(personas))\n",
    "\n",
    "\n",
    "cua_inputs = []\n",
    "for persona, ps in zip(personas, product_search):\n",
    "    cua_inputs.append(f'{ps} as if you were the person described in the following persona and dont ask for confirmation or clarification, and dont leave the wayfair website: {persona}.')\n",
    "    \n",
    "cua_df = pd.DataFrame({'cua_input': cua_inputs, 'product_search': product_search})\n",
    "\n",
    "print(cua_df.head())\n",
    "\n",
    "cua_df.to_csv('cua_inputs.csv', index=False)\n"
   ]
  }
 ],
 "metadata": {
  "kernelspec": {
   "display_name": ".venv",
   "language": "python",
   "name": "python3"
  },
  "language_info": {
   "codemirror_mode": {
    "name": "ipython",
    "version": 3
   },
   "file_extension": ".py",
   "mimetype": "text/x-python",
   "name": "python",
   "nbconvert_exporter": "python",
   "pygments_lexer": "ipython3",
   "version": "3.12.9"
  }
 },
 "nbformat": 4,
 "nbformat_minor": 2
}
