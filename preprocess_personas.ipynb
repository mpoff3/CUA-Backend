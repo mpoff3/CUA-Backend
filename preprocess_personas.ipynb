{
 "cells": [
  {
   "cell_type": "code",
   "execution_count": 2,
   "metadata": {},
   "outputs": [],
   "source": [
    "import pandas as pd"
   ]
  },
  {
   "cell_type": "code",
   "execution_count": 7,
   "metadata": {},
   "outputs": [
    {
     "name": "stdout",
     "output_type": "stream",
     "text": [
      "                                           cua_input  \\\n",
      "0  Search for a couch and tell me the first one y...   \n",
      "1  Search for a couch and tell me the first one y...   \n",
      "2  Search for a couch and tell me the first one y...   \n",
      "3  Search for a couch and tell me the first one y...   \n",
      "4  Search for a couch and tell me the first one y...   \n",
      "\n",
      "                                      product_search  \n",
      "0  Search for a couch and tell me the first one y...  \n",
      "1  Search for a couch and tell me the first one y...  \n",
      "2  Search for a couch and tell me the first one y...  \n",
      "3  Search for a couch and tell me the first one y...  \n",
      "4  Search for a couch and tell me the first one y...  \n"
     ]
    }
   ],
   "source": [
    "df = pd.read_csv('personas.csv')\n",
    "\n",
    "### Filter to your chunk of personas\n",
    "df = df.iloc[100:200]\n",
    "\n",
    "personas = df['answer.journey_pattern'].tolist()\n",
    "product_search = \"Search for a blue window curtain\"\n",
    "\n",
    "cua_inputs = []\n",
    "for persona in personas:\n",
    "    cua_inputs.append(f'{product_search} as if you were the person described in the following persona: {persona}')\n",
    "\n",
    "cua_df = pd.DataFrame({'cua_input': cua_inputs})\n",
    "cua_df['product_search'] = product_search\n",
    "\n",
    "print(cua_df.head())\n",
    "\n",
    "cua_df.to_csv('cua_inputs.csv', index=False)\n"
   ]
  }
 ],
 "metadata": {
  "kernelspec": {
   "display_name": ".venv",
   "language": "python",
   "name": "python3"
  },
  "language_info": {
   "codemirror_mode": {
    "name": "ipython",
    "version": 3
   },
   "file_extension": ".py",
   "mimetype": "text/x-python",
   "name": "python",
   "nbconvert_exporter": "python",
   "pygments_lexer": "ipython3",
   "version": "3.12.9"
  }
 },
 "nbformat": 4,
 "nbformat_minor": 2
}
